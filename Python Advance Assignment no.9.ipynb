{
 "cells": [
  {
   "cell_type": "markdown",
   "metadata": {},
   "source": [
    "Q1. In Python 3.X, what are the names and functions of string object types?"
   ]
  },
  {
   "cell_type": "markdown",
   "metadata": {},
   "source": [
    "capitalize():Converts the first character to upper case,\n",
    "casefold():Converts string into lower case,\n",
    "center():Returns a centered string,\n",
    "count():Returns the number of times a specified value occurs in a string,\n",
    "encode():Returns an encoded version of the string,\n",
    "endswith():Returns true if the string ends with the specified value,\n",
    "expandtabs():Sets the tab size of the string,\n",
    "find():Searches the string for a specified value and returns the position of where it was found,\n",
    "format():Formats specified values in a string,\n",
    "format_map():Formats specified values in a string,\n",
    "index():Searches the string for a specified value and returns the position of where it was found,\n",
    "isalnum():Returns True if all characters in the string are alphanumeric,\n",
    "isalpha():Returns True if all characters in the string are in the alphabet,\n",
    "isascii():Returns True if all characters in the string are ascii characters,\n",
    "isdecimal():Returns True if all characters in the string are decimals,\n",
    "isdigit():Returns True if all characters in the string are digits,\n",
    "isidentifier():Returns True if the string is an identifier,\n",
    "islower():Returns True if all characters in the string are lower case,\n",
    "isnumeric():Returns True if all characters in the string are numeric,\n",
    "isprintable():Returns True if all characters in the string are printable,\n",
    "isspace():Returns True if all characters in the string are whitespaces,\n",
    "istitle():Returns True if the string follows the rules of a title,\n",
    "isupper():Returns True if all characters in the string are upper case,\n",
    "join():Converts the elements of an iterable into a string,\n",
    "ljust():Returns a left justified version of the string,\n",
    "lower():Converts a string into lower case,\n",
    "lstrip():Returns a left trim version of the string,\n",
    "maketrans():Returns a translation table to be used in translations,\n",
    "partition():Returns a tuple where the string is parted into three parts,\n",
    "replace():Returns a string where a specified value is replaced with a specified value,\n",
    "rfind():Searches the string for a specified value and returns the last position of where it was found,\n",
    "rindex():Searches the string for a specified value and returns the last position of where it was found,\n",
    "rjust():Returns a right justified version of the string,\n",
    "rpartition():Returns a tuple where the string is parted into three parts,\n",
    "rsplit():Splits the string at the specified separator, and returns a list,\n",
    "rstrip():Returns a right trim version of the string,\n",
    "split():Splits the string at the specified separator, and returns a list,\n",
    "splitlines():Splits the string at line breaks and returns a list,\n",
    "startswith():Returns true if the string starts with the specified value,\n",
    "strip():Returns a trimmed version of the string,\n",
    "swapcase():Swaps cases, lower case becomes upper case and vice versa,\n",
    "title():Converts the first character of each word to upper case,\n",
    "translate():Returns a translated string,\n",
    "upper():Converts a string into upper case,\n",
    "zfill():Fills the string with a specified number of 0 values at the beginning"
   ]
  },
  {
   "cell_type": "markdown",
   "metadata": {},
   "source": [
    "Q2. In 3.X, how do you put non-ASCII Unicode characters in a string?\n"
   ]
  },
  {
   "cell_type": "markdown",
   "metadata": {},
   "source": [
    "Python allows Unicode string literals to be specified by adding a u character prefix before the string literal: This will create a Unicode string and the label will be appear correctly.\n"
   ]
  },
  {
   "cell_type": "markdown",
   "metadata": {},
   "source": [
    "Q3. In Python 3.X, what are the key differences between text-mode and binary-mode files?\n"
   ]
  },
  {
   "cell_type": "markdown",
   "metadata": {},
   "source": [
    "Text files are used to store data more user friendly.In the text file, a special character whose ASCII value is 26 inserted after the last character to mark the end of file. Binary files are used to store data more compactly. In the binary file no such character is present."
   ]
  },
  {
   "cell_type": "markdown",
   "metadata": {},
   "source": [
    "Q4. How can you interpret a Unicode text file containing text encoded in a different encoding than your platform's default?\n"
   ]
  },
  {
   "cell_type": "markdown",
   "metadata": {},
   "source": [
    "The Unicode Transformation Format (UTF) is a character encoding format which is able to encode all of the possible character code points in Unicode. The most prolific is UTF-8, which is a variable-length encoding and uses 8-bit code units, designed for backwards compatibility with ASCII encoding."
   ]
  },
  {
   "cell_type": "markdown",
   "metadata": {},
   "source": [
    "Q5. What is the best way to make a Unicode text file in a particular encoding format?\n"
   ]
  },
  {
   "cell_type": "markdown",
   "metadata": {},
   "source": [
    "UTF : It is a character encoding format which is able to encode all of the possible character code points in Unicode. The most prolific is UTF-8, which is a variable-length encoding and uses 8-bit code units, designed for backwards compatibility with ASCII encoding."
   ]
  },
  {
   "cell_type": "markdown",
   "metadata": {},
   "source": [
    "Q6. What qualifies ASCII text as a form of Unicode text?\n"
   ]
  },
  {
   "cell_type": "markdown",
   "metadata": {},
   "source": [
    "For backward compatibility, the first 128 Unicode code points represent the equivalent ASCII characters. Since UTF-8 encodes each of these characters with a single byte, any ASCII text is also a UTF-8 text. Unicode is a superset of ASCII.\n",
    "\n",
    "However, many Unicode files cannot be used in an ASCII context. Any character that is out-of-bounds will be displayed in an unexpected manner, often with substituted characters that are completely different from those that were intended."
   ]
  },
  {
   "cell_type": "code",
   "execution_count": null,
   "metadata": {},
   "outputs": [],
   "source": []
  }
 ],
 "metadata": {
  "kernelspec": {
   "display_name": "Python 3",
   "language": "python",
   "name": "python3"
  },
  "language_info": {
   "codemirror_mode": {
    "name": "ipython",
    "version": 3
   },
   "file_extension": ".py",
   "mimetype": "text/x-python",
   "name": "python",
   "nbconvert_exporter": "python",
   "pygments_lexer": "ipython3",
   "version": "3.8.5"
  }
 },
 "nbformat": 4,
 "nbformat_minor": 4
}
